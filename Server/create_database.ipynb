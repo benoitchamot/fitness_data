{
 "cells": [
  {
   "cell_type": "markdown",
   "metadata": {},
   "source": [
    "# Create Database\n",
    "This notebook is used to import the data from the CSV files in `/Data` and load them as is in a SQLite database."
   ]
  },
  {
   "cell_type": "markdown",
   "metadata": {},
   "source": [
    "## Dependencies"
   ]
  },
  {
   "cell_type": "code",
   "execution_count": 7,
   "metadata": {},
   "outputs": [],
   "source": [
    "# Pandas\n",
    "import pandas as pd\n",
    "from pathlib import Path\n",
    "\n",
    "# Python SQL toolkit and Object Relational Mapper\n",
    "import sqlalchemy\n",
    "from sqlalchemy.ext.declarative import declarative_base\n",
    "from sqlalchemy.orm import Session\n",
    "from sqlalchemy import create_engine, func\n",
    "from sqlalchemy import desc\n",
    "\n",
    "# Get data types used in columns (class attributes)\n",
    "from sqlalchemy import Column, Integer, String, Float, Boolean"
   ]
  },
  {
   "cell_type": "markdown",
   "metadata": {},
   "source": [
    "## Declare base and create table class"
   ]
  },
  {
   "cell_type": "code",
   "execution_count": 8,
   "metadata": {},
   "outputs": [],
   "source": [
    "Base = declarative_base()"
   ]
  },
  {
   "cell_type": "code",
   "execution_count": 9,
   "metadata": {},
   "outputs": [],
   "source": [
    "class DailyActivity(Base):\n",
    "\t__tablename__ = \"daily_activity\"\n",
    "\tId = Column(Integer,primary_key=True)\n",
    "\tUserId = Column(String)\n",
    "\tActivityDate = Column(String)\n",
    "\tTotalSteps = Column(Float)\n",
    "\tTotalDistance = Column(Float)\n",
    "\tTrackerDistance = Column(Float)\n",
    "\tLoggedActivitiesDistance = Column(Float)\n",
    "\tVeryActiveDistance = Column(Float)\n",
    "\tModeratelyActiveDistance = Column(Float)\n",
    "\tLightActiveDistance = Column(Float)\n",
    "\tSedentaryActiveDistance = Column(Float)\n",
    "\tVeryActiveMinutes = Column(Float)\n",
    "\tFairlyActiveMinutes = Column(Float)\n",
    "\tLightlyActiveMinutes = Column(Float)\n",
    "\tSedentaryMinutes = Column(Float)\n",
    "\tCalories = Column(Float)\n"
   ]
  },
  {
   "cell_type": "markdown",
   "metadata": {},
   "source": [
    "## Open a session"
   ]
  },
  {
   "cell_type": "code",
   "execution_count": 10,
   "metadata": {},
   "outputs": [],
   "source": [
    "# Create database connection\n",
    "# NOTE: Create the database if it does not exist\n",
    "engine = create_engine(\"sqlite:///fitness_db.sqlite\")\n",
    "\n",
    "# Create all tables and columns (from class)\n",
    "# NOTE: If the table already exists, it will use the existing table\n",
    "Base.metadata.create_all(engine)\n",
    "\n",
    "# Start session\n",
    "session = Session(bind=engine)"
   ]
  },
  {
   "cell_type": "markdown",
   "metadata": {},
   "source": [
    "## Add data from CSV file"
   ]
  },
  {
   "cell_type": "code",
   "execution_count": 14,
   "metadata": {},
   "outputs": [
    {
     "data": {
      "text/plain": [
       "Index(['Id', 'ActivityDate', 'TotalSteps', 'TotalDistance', 'TrackerDistance',\n",
       "       'LoggedActivitiesDistance', 'VeryActiveDistance',\n",
       "       'ModeratelyActiveDistance', 'LightActiveDistance',\n",
       "       'SedentaryActiveDistance', 'VeryActiveMinutes', 'FairlyActiveMinutes',\n",
       "       'LightlyActiveMinutes', 'SedentaryMinutes', 'Calories'],\n",
       "      dtype='object')"
      ]
     },
     "execution_count": 14,
     "metadata": {},
     "output_type": "execute_result"
    }
   ],
   "source": [
    "# Open CSV file into a DataFrame\n",
    "csvfile = Path('../Data/dailyActivity_merged.csv')\n",
    "daily_activity_df = pd.read_csv(csvfile)\n",
    "\n",
    "# Display DataFrame columns\n",
    "daily_activity_df.columns"
   ]
  },
  {
   "cell_type": "code",
   "execution_count": 12,
   "metadata": {},
   "outputs": [],
   "source": [
    "# Loop through DataFrame and retrieve data\n",
    "for index, row in daily_activity_df.iterrows():\n",
    "    UserId = daily_activity_df.loc[index,'Id']\n",
    "    ActivityDate = daily_activity_df.loc[index,'ActivityDate']\n",
    "    TotalSteps = daily_activity_df.loc[index,'TotalSteps']\n",
    "    TotalDistance = daily_activity_df.loc[index,'TotalDistance']\n",
    "    TrackerDistance = daily_activity_df.loc[index,'TrackerDistance']\n",
    "    LoggedActivitiesDistance = daily_activity_df.loc[index,'LoggedActivitiesDistance']\n",
    "    VeryActiveDistance = daily_activity_df.loc[index,'VeryActiveDistance']\n",
    "    ModeratelyActiveDistance = daily_activity_df.loc[index,'ModeratelyActiveDistance']\n",
    "    LightActiveDistance = daily_activity_df.loc[index,'LightActiveDistance']\n",
    "    SedentaryActiveDistance = daily_activity_df.loc[index,'SedentaryActiveDistance']\n",
    "    VeryActiveMinutes = daily_activity_df.loc[index,'VeryActiveMinutes']\n",
    "    FairlyActiveMinutes = daily_activity_df.loc[index,'FairlyActiveMinutes']\n",
    "    LightlyActiveMinutes = daily_activity_df.loc[index,'LightlyActiveMinutes']\n",
    "    SedentaryMinutes = daily_activity_df.loc[index,'SedentaryMinutes']\n",
    "    Calories = daily_activity_df.loc[index,'Calories']\n",
    "\n",
    "    # Add data to database\n",
    "    session.add(DailyActivity(\n",
    "        UserId = int(UserId),\n",
    "        ActivityDate = ActivityDate,\n",
    "        TotalSteps = TotalSteps,\n",
    "        TotalDistance = TotalDistance,\n",
    "        TrackerDistance = TrackerDistance,\n",
    "        LoggedActivitiesDistance = LoggedActivitiesDistance,\n",
    "        VeryActiveDistance = VeryActiveDistance,\n",
    "        ModeratelyActiveDistance = ModeratelyActiveDistance,\n",
    "        LightActiveDistance = LightActiveDistance,\n",
    "        SedentaryActiveDistance = SedentaryActiveDistance,\n",
    "        VeryActiveMinutes = VeryActiveMinutes,\n",
    "        FairlyActiveMinutes = FairlyActiveMinutes,\n",
    "        LightlyActiveMinutes = LightlyActiveMinutes,\n",
    "        SedentaryMinutes = SedentaryMinutes,\n",
    "        Calories = Calories\n",
    "    ))\n",
    "\n",
    "# Commit all changes to database\n",
    "session.commit()"
   ]
  },
  {
   "cell_type": "markdown",
   "metadata": {},
   "source": [
    "## Close session"
   ]
  },
  {
   "cell_type": "code",
   "execution_count": 13,
   "metadata": {},
   "outputs": [],
   "source": [
    "# Close Session\n",
    "session.close()\n",
    "\n",
    "# Uncomment the code below to clear out the db \n",
    "# Base.metadata.drop_all(engine)"
   ]
  }
 ],
 "metadata": {
  "kernelspec": {
   "display_name": "dev",
   "language": "python",
   "name": "python3"
  },
  "language_info": {
   "codemirror_mode": {
    "name": "ipython",
    "version": 3
   },
   "file_extension": ".py",
   "mimetype": "text/x-python",
   "name": "python",
   "nbconvert_exporter": "python",
   "pygments_lexer": "ipython3",
   "version": "3.10.11"
  },
  "orig_nbformat": 4
 },
 "nbformat": 4,
 "nbformat_minor": 2
}
